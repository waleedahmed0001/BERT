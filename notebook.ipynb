{
 "cells": [
  {
   "cell_type": "code",
   "execution_count": 2,
   "metadata": {
    "scrolled": true
   },
   "outputs": [
    {
     "name": "stdout",
     "output_type": "stream",
     "text": [
      "Requirement already satisfied: simpletransformers in c:\\users\\waleed ahmed shahid\\appdata\\local\\programs\\python\\python39\\lib\\site-packages (0.63.11)\n",
      "Requirement already satisfied: numpy in c:\\users\\waleed ahmed shahid\\appdata\\local\\programs\\python\\python39\\lib\\site-packages (from simpletransformers) (1.21.2)\n",
      "Requirement already satisfied: requests in c:\\users\\waleed ahmed shahid\\appdata\\local\\programs\\python\\python39\\lib\\site-packages (from simpletransformers) (2.27.1)\n",
      "Requirement already satisfied: tqdm>=4.47.0 in c:\\users\\waleed ahmed shahid\\appdata\\local\\programs\\python\\python39\\lib\\site-packages (from simpletransformers) (4.64.0)\n",
      "Requirement already satisfied: regex in c:\\users\\waleed ahmed shahid\\appdata\\local\\programs\\python\\python39\\lib\\site-packages (from simpletransformers) (2022.4.24)\n",
      "Requirement already satisfied: transformers>=4.6.0 in c:\\users\\waleed ahmed shahid\\appdata\\local\\programs\\python\\python39\\lib\\site-packages (from simpletransformers) (4.30.2)\n",
      "Requirement already satisfied: datasets in c:\\users\\waleed ahmed shahid\\appdata\\local\\programs\\python\\python39\\lib\\site-packages (from simpletransformers) (2.13.1)\n",
      "Requirement already satisfied: scipy in c:\\users\\waleed ahmed shahid\\appdata\\local\\programs\\python\\python39\\lib\\site-packages (from simpletransformers) (1.7.3)\n",
      "Requirement already satisfied: scikit-learn in c:\\users\\waleed ahmed shahid\\appdata\\local\\programs\\python\\python39\\lib\\site-packages (from simpletransformers) (1.0.2)\n",
      "Requirement already satisfied: seqeval in c:\\users\\waleed ahmed shahid\\appdata\\local\\programs\\python\\python39\\lib\\site-packages (from simpletransformers) (1.2.2)\n",
      "Requirement already satisfied: tensorboard in c:\\users\\waleed ahmed shahid\\appdata\\local\\programs\\python\\python39\\lib\\site-packages (from simpletransformers) (2.8.0)\n",
      "Requirement already satisfied: pandas in c:\\users\\waleed ahmed shahid\\appdata\\local\\programs\\python\\python39\\lib\\site-packages (from simpletransformers) (1.4.4)\n",
      "Requirement already satisfied: tokenizers in c:\\users\\waleed ahmed shahid\\appdata\\local\\programs\\python\\python39\\lib\\site-packages (from simpletransformers) (0.13.3)\n",
      "Requirement already satisfied: wandb>=0.10.32 in c:\\users\\waleed ahmed shahid\\appdata\\local\\programs\\python\\python39\\lib\\site-packages (from simpletransformers) (0.15.4)\n",
      "Requirement already satisfied: streamlit in c:\\users\\waleed ahmed shahid\\appdata\\local\\programs\\python\\python39\\lib\\site-packages (from simpletransformers) (1.24.0)\n",
      "Requirement already satisfied: sentencepiece in c:\\users\\waleed ahmed shahid\\appdata\\local\\programs\\python\\python39\\lib\\site-packages (from simpletransformers) (0.1.99)\n",
      "Requirement already satisfied: colorama in c:\\users\\waleed ahmed shahid\\appdata\\roaming\\python\\python39\\site-packages (from tqdm>=4.47.0->simpletransformers) (0.4.6)\n",
      "Requirement already satisfied: filelock in c:\\users\\waleed ahmed shahid\\appdata\\local\\programs\\python\\python39\\lib\\site-packages (from transformers>=4.6.0->simpletransformers) (3.12.0)\n",
      "Requirement already satisfied: huggingface-hub<1.0,>=0.14.1 in c:\\users\\waleed ahmed shahid\\appdata\\local\\programs\\python\\python39\\lib\\site-packages (from transformers>=4.6.0->simpletransformers) (0.15.1)\n",
      "Requirement already satisfied: packaging>=20.0 in c:\\users\\waleed ahmed shahid\\appdata\\roaming\\python\\python39\\site-packages (from transformers>=4.6.0->simpletransformers) (23.1)\n",
      "Requirement already satisfied: pyyaml>=5.1 in c:\\users\\waleed ahmed shahid\\appdata\\local\\programs\\python\\python39\\lib\\site-packages (from transformers>=4.6.0->simpletransformers) (6.0)\n",
      "Requirement already satisfied: safetensors>=0.3.1 in c:\\users\\waleed ahmed shahid\\appdata\\local\\programs\\python\\python39\\lib\\site-packages (from transformers>=4.6.0->simpletransformers) (0.3.1)\n",
      "Requirement already satisfied: Click!=8.0.0,>=7.0 in c:\\users\\waleed ahmed shahid\\appdata\\local\\programs\\python\\python39\\lib\\site-packages (from wandb>=0.10.32->simpletransformers) (8.1.3)\n",
      "Requirement already satisfied: GitPython!=3.1.29,>=1.0.0 in c:\\users\\waleed ahmed shahid\\appdata\\local\\programs\\python\\python39\\lib\\site-packages (from wandb>=0.10.32->simpletransformers) (3.1.31)\n",
      "Requirement already satisfied: psutil>=5.0.0 in c:\\users\\waleed ahmed shahid\\appdata\\roaming\\python\\python39\\site-packages (from wandb>=0.10.32->simpletransformers) (5.9.4)\n",
      "Requirement already satisfied: sentry-sdk>=1.0.0 in c:\\users\\waleed ahmed shahid\\appdata\\local\\programs\\python\\python39\\lib\\site-packages (from wandb>=0.10.32->simpletransformers) (1.22.2)\n",
      "Requirement already satisfied: docker-pycreds>=0.4.0 in c:\\users\\waleed ahmed shahid\\appdata\\local\\programs\\python\\python39\\lib\\site-packages (from wandb>=0.10.32->simpletransformers) (0.4.0)\n",
      "Requirement already satisfied: pathtools in c:\\users\\waleed ahmed shahid\\appdata\\local\\programs\\python\\python39\\lib\\site-packages (from wandb>=0.10.32->simpletransformers) (0.1.2)\n",
      "Requirement already satisfied: setproctitle in c:\\users\\waleed ahmed shahid\\appdata\\local\\programs\\python\\python39\\lib\\site-packages (from wandb>=0.10.32->simpletransformers) (1.3.2)\n",
      "Requirement already satisfied: setuptools in c:\\users\\waleed ahmed shahid\\appdata\\local\\programs\\python\\python39\\lib\\site-packages (from wandb>=0.10.32->simpletransformers) (49.2.1)\n",
      "Requirement already satisfied: appdirs>=1.4.3 in c:\\users\\waleed ahmed shahid\\appdata\\local\\programs\\python\\python39\\lib\\site-packages (from wandb>=0.10.32->simpletransformers) (1.4.4)\n",
      "Requirement already satisfied: typing-extensions in c:\\users\\waleed ahmed shahid\\appdata\\roaming\\python\\python39\\site-packages (from wandb>=0.10.32->simpletransformers) (4.5.0)\n",
      "Requirement already satisfied: protobuf!=4.21.0,<5,>=3.19.0 in c:\\users\\waleed ahmed shahid\\appdata\\local\\programs\\python\\python39\\lib\\site-packages (from wandb>=0.10.32->simpletransformers) (3.20.1)\n",
      "Requirement already satisfied: urllib3<1.27,>=1.21.1 in c:\\users\\waleed ahmed shahid\\appdata\\local\\programs\\python\\python39\\lib\\site-packages (from requests->simpletransformers) (1.26.15)\n",
      "Requirement already satisfied: certifi>=2017.4.17 in c:\\users\\waleed ahmed shahid\\appdata\\local\\programs\\python\\python39\\lib\\site-packages (from requests->simpletransformers) (2021.10.8)\n",
      "Requirement already satisfied: charset-normalizer~=2.0.0 in c:\\users\\waleed ahmed shahid\\appdata\\local\\programs\\python\\python39\\lib\\site-packages (from requests->simpletransformers) (2.0.12)\n",
      "Requirement already satisfied: idna<4,>=2.5 in c:\\users\\waleed ahmed shahid\\appdata\\local\\programs\\python\\python39\\lib\\site-packages (from requests->simpletransformers) (3.3)\n",
      "Requirement already satisfied: pyarrow>=8.0.0 in c:\\users\\waleed ahmed shahid\\appdata\\local\\programs\\python\\python39\\lib\\site-packages (from datasets->simpletransformers) (12.0.1)\n",
      "Requirement already satisfied: dill<0.3.7,>=0.3.0 in c:\\users\\waleed ahmed shahid\\appdata\\local\\programs\\python\\python39\\lib\\site-packages (from datasets->simpletransformers) (0.3.6)\n",
      "Requirement already satisfied: xxhash in c:\\users\\waleed ahmed shahid\\appdata\\local\\programs\\python\\python39\\lib\\site-packages (from datasets->simpletransformers) (3.2.0)\n",
      "Requirement already satisfied: multiprocess in c:\\users\\waleed ahmed shahid\\appdata\\local\\programs\\python\\python39\\lib\\site-packages (from datasets->simpletransformers) (0.70.14)\n",
      "Requirement already satisfied: fsspec[http]>=2021.11.1 in c:\\users\\waleed ahmed shahid\\appdata\\local\\programs\\python\\python39\\lib\\site-packages (from datasets->simpletransformers) (2023.6.0)\n",
      "Requirement already satisfied: aiohttp in c:\\users\\waleed ahmed shahid\\appdata\\local\\programs\\python\\python39\\lib\\site-packages (from datasets->simpletransformers) (3.8.4)\n",
      "Requirement already satisfied: python-dateutil>=2.8.1 in c:\\users\\waleed ahmed shahid\\appdata\\roaming\\python\\python39\\site-packages (from pandas->simpletransformers) (2.8.2)\n",
      "Requirement already satisfied: pytz>=2020.1 in c:\\users\\waleed ahmed shahid\\appdata\\local\\programs\\python\\python39\\lib\\site-packages (from pandas->simpletransformers) (2021.3)\n",
      "Requirement already satisfied: joblib>=0.11 in c:\\users\\waleed ahmed shahid\\appdata\\local\\programs\\python\\python39\\lib\\site-packages (from scikit-learn->simpletransformers) (1.1.0)\n",
      "Requirement already satisfied: threadpoolctl>=2.0.0 in c:\\users\\waleed ahmed shahid\\appdata\\local\\programs\\python\\python39\\lib\\site-packages (from scikit-learn->simpletransformers) (3.0.0)\n",
      "Requirement already satisfied: altair<6,>=4.0 in c:\\users\\waleed ahmed shahid\\appdata\\local\\programs\\python\\python39\\lib\\site-packages (from streamlit->simpletransformers) (5.0.1)\n",
      "Requirement already satisfied: blinker<2,>=1.0.0 in c:\\users\\waleed ahmed shahid\\appdata\\local\\programs\\python\\python39\\lib\\site-packages (from streamlit->simpletransformers) (1.6.2)\n",
      "Requirement already satisfied: cachetools<6,>=4.0 in c:\\users\\waleed ahmed shahid\\appdata\\local\\programs\\python\\python39\\lib\\site-packages (from streamlit->simpletransformers) (5.1.0)\n",
      "Requirement already satisfied: importlib-metadata<7,>=1.4 in c:\\users\\waleed ahmed shahid\\appdata\\roaming\\python\\python39\\site-packages (from streamlit->simpletransformers) (6.3.0)\n",
      "Requirement already satisfied: pillow<10,>=6.2.0 in c:\\users\\waleed ahmed shahid\\appdata\\local\\programs\\python\\python39\\lib\\site-packages (from streamlit->simpletransformers) (9.5.0)\n",
      "Requirement already satisfied: pympler<2,>=0.9 in c:\\users\\waleed ahmed shahid\\appdata\\local\\programs\\python\\python39\\lib\\site-packages (from streamlit->simpletransformers) (1.0.1)\n",
      "Requirement already satisfied: rich<14,>=10.11.0 in c:\\users\\waleed ahmed shahid\\appdata\\local\\programs\\python\\python39\\lib\\site-packages (from streamlit->simpletransformers) (13.4.2)\n",
      "Requirement already satisfied: tenacity<9,>=8.0.0 in c:\\users\\waleed ahmed shahid\\appdata\\local\\programs\\python\\python39\\lib\\site-packages (from streamlit->simpletransformers) (8.2.2)\n",
      "Requirement already satisfied: toml<2 in c:\\users\\waleed ahmed shahid\\appdata\\local\\programs\\python\\python39\\lib\\site-packages (from streamlit->simpletransformers) (0.10.2)\n",
      "Requirement already satisfied: tzlocal<5,>=1.1 in c:\\users\\waleed ahmed shahid\\appdata\\local\\programs\\python\\python39\\lib\\site-packages (from streamlit->simpletransformers) (4.3.1)\n",
      "Requirement already satisfied: validators<1,>=0.2 in c:\\users\\waleed ahmed shahid\\appdata\\local\\programs\\python\\python39\\lib\\site-packages (from streamlit->simpletransformers) (0.20.0)\n",
      "Requirement already satisfied: pydeck<1,>=0.1.dev5 in c:\\users\\waleed ahmed shahid\\appdata\\local\\programs\\python\\python39\\lib\\site-packages (from streamlit->simpletransformers) (0.8.1b0)\n",
      "Requirement already satisfied: tornado<7,>=6.0.3 in c:\\users\\waleed ahmed shahid\\appdata\\roaming\\python\\python39\\site-packages (from streamlit->simpletransformers) (6.2)\n",
      "Requirement already satisfied: watchdog in c:\\users\\waleed ahmed shahid\\appdata\\local\\programs\\python\\python39\\lib\\site-packages (from streamlit->simpletransformers) (3.0.0)\n",
      "Requirement already satisfied: absl-py>=0.4 in c:\\users\\waleed ahmed shahid\\appdata\\local\\programs\\python\\python39\\lib\\site-packages (from tensorboard->simpletransformers) (1.0.0)\n",
      "Requirement already satisfied: grpcio>=1.24.3 in c:\\users\\waleed ahmed shahid\\appdata\\local\\programs\\python\\python39\\lib\\site-packages (from tensorboard->simpletransformers) (1.46.1)\n",
      "Requirement already satisfied: google-auth<3,>=1.6.3 in c:\\users\\waleed ahmed shahid\\appdata\\local\\programs\\python\\python39\\lib\\site-packages (from tensorboard->simpletransformers) (2.6.6)\n",
      "Requirement already satisfied: google-auth-oauthlib<0.5,>=0.4.1 in c:\\users\\waleed ahmed shahid\\appdata\\local\\programs\\python\\python39\\lib\\site-packages (from tensorboard->simpletransformers) (0.4.6)\n",
      "Requirement already satisfied: markdown>=2.6.8 in c:\\users\\waleed ahmed shahid\\appdata\\local\\programs\\python\\python39\\lib\\site-packages (from tensorboard->simpletransformers) (3.3.7)\n",
      "Requirement already satisfied: tensorboard-data-server<0.7.0,>=0.6.0 in c:\\users\\waleed ahmed shahid\\appdata\\local\\programs\\python\\python39\\lib\\site-packages (from tensorboard->simpletransformers) (0.6.1)\n",
      "Requirement already satisfied: tensorboard-plugin-wit>=1.6.0 in c:\\users\\waleed ahmed shahid\\appdata\\local\\programs\\python\\python39\\lib\\site-packages (from tensorboard->simpletransformers) (1.8.1)\n",
      "Requirement already satisfied: werkzeug>=0.11.15 in c:\\users\\waleed ahmed shahid\\appdata\\local\\programs\\python\\python39\\lib\\site-packages (from tensorboard->simpletransformers) (2.1.2)\n",
      "Requirement already satisfied: wheel>=0.26 in c:\\users\\waleed ahmed shahid\\appdata\\local\\programs\\python\\python39\\lib\\site-packages (from tensorboard->simpletransformers) (0.37.1)\n",
      "Requirement already satisfied: six in c:\\users\\waleed ahmed shahid\\appdata\\roaming\\python\\python39\\site-packages (from absl-py>=0.4->tensorboard->simpletransformers) (1.16.0)\n",
      "Requirement already satisfied: jinja2 in c:\\users\\waleed ahmed shahid\\appdata\\local\\programs\\python\\python39\\lib\\site-packages (from altair<6,>=4.0->streamlit->simpletransformers) (3.1.2)\n",
      "Requirement already satisfied: jsonschema>=3.0 in c:\\users\\waleed ahmed shahid\\appdata\\local\\programs\\python\\python39\\lib\\site-packages (from altair<6,>=4.0->streamlit->simpletransformers) (4.17.3)\n",
      "Requirement already satisfied: toolz in c:\\users\\waleed ahmed shahid\\appdata\\local\\programs\\python\\python39\\lib\\site-packages (from altair<6,>=4.0->streamlit->simpletransformers) (0.12.0)\n",
      "Requirement already satisfied: attrs>=17.3.0 in c:\\users\\waleed ahmed shahid\\appdata\\local\\programs\\python\\python39\\lib\\site-packages (from aiohttp->datasets->simpletransformers) (22.2.0)\n",
      "Requirement already satisfied: multidict<7.0,>=4.5 in c:\\users\\waleed ahmed shahid\\appdata\\local\\programs\\python\\python39\\lib\\site-packages (from aiohttp->datasets->simpletransformers) (6.0.4)\n",
      "Requirement already satisfied: async-timeout<5.0,>=4.0.0a3 in c:\\users\\waleed ahmed shahid\\appdata\\local\\programs\\python\\python39\\lib\\site-packages (from aiohttp->datasets->simpletransformers) (4.0.2)\n",
      "Requirement already satisfied: yarl<2.0,>=1.0 in c:\\users\\waleed ahmed shahid\\appdata\\local\\programs\\python\\python39\\lib\\site-packages (from aiohttp->datasets->simpletransformers) (1.9.2)\n",
      "Requirement already satisfied: frozenlist>=1.1.1 in c:\\users\\waleed ahmed shahid\\appdata\\local\\programs\\python\\python39\\lib\\site-packages (from aiohttp->datasets->simpletransformers) (1.3.3)\n",
      "Requirement already satisfied: aiosignal>=1.1.2 in c:\\users\\waleed ahmed shahid\\appdata\\local\\programs\\python\\python39\\lib\\site-packages (from aiohttp->datasets->simpletransformers) (1.3.1)\n",
      "Requirement already satisfied: gitdb<5,>=4.0.1 in c:\\users\\waleed ahmed shahid\\appdata\\local\\programs\\python\\python39\\lib\\site-packages (from GitPython!=3.1.29,>=1.0.0->wandb>=0.10.32->simpletransformers) (4.0.10)\n",
      "Requirement already satisfied: pyasn1-modules>=0.2.1 in c:\\users\\waleed ahmed shahid\\appdata\\local\\programs\\python\\python39\\lib\\site-packages (from google-auth<3,>=1.6.3->tensorboard->simpletransformers) (0.2.8)\n",
      "Requirement already satisfied: rsa<5,>=3.1.4 in c:\\users\\waleed ahmed shahid\\appdata\\local\\programs\\python\\python39\\lib\\site-packages (from google-auth<3,>=1.6.3->tensorboard->simpletransformers) (4.8)\n",
      "Requirement already satisfied: requests-oauthlib>=0.7.0 in c:\\users\\waleed ahmed shahid\\appdata\\local\\programs\\python\\python39\\lib\\site-packages (from google-auth-oauthlib<0.5,>=0.4.1->tensorboard->simpletransformers) (1.3.1)\n",
      "Requirement already satisfied: zipp>=0.5 in c:\\users\\waleed ahmed shahid\\appdata\\roaming\\python\\python39\\site-packages (from importlib-metadata<7,>=1.4->streamlit->simpletransformers) (3.15.0)\n",
      "Requirement already satisfied: markdown-it-py>=2.2.0 in c:\\users\\waleed ahmed shahid\\appdata\\local\\programs\\python\\python39\\lib\\site-packages (from rich<14,>=10.11.0->streamlit->simpletransformers) (3.0.0)\n",
      "Requirement already satisfied: pygments<3.0.0,>=2.13.0 in c:\\users\\waleed ahmed shahid\\appdata\\roaming\\python\\python39\\site-packages (from rich<14,>=10.11.0->streamlit->simpletransformers) (2.15.0)\n",
      "Requirement already satisfied: pytz-deprecation-shim in c:\\users\\waleed ahmed shahid\\appdata\\local\\programs\\python\\python39\\lib\\site-packages (from tzlocal<5,>=1.1->streamlit->simpletransformers) (0.1.0.post0)\n",
      "Requirement already satisfied: tzdata in c:\\users\\waleed ahmed shahid\\appdata\\local\\programs\\python\\python39\\lib\\site-packages (from tzlocal<5,>=1.1->streamlit->simpletransformers) (2023.3)\n",
      "Requirement already satisfied: decorator>=3.4.0 in c:\\users\\waleed ahmed shahid\\appdata\\roaming\\python\\python39\\site-packages (from validators<1,>=0.2->streamlit->simpletransformers) (5.1.1)\n",
      "Requirement already satisfied: smmap<6,>=3.0.1 in c:\\users\\waleed ahmed shahid\\appdata\\local\\programs\\python\\python39\\lib\\site-packages (from gitdb<5,>=4.0.1->GitPython!=3.1.29,>=1.0.0->wandb>=0.10.32->simpletransformers) (5.0.0)\n",
      "Requirement already satisfied: MarkupSafe>=2.0 in c:\\users\\waleed ahmed shahid\\appdata\\local\\programs\\python\\python39\\lib\\site-packages (from jinja2->altair<6,>=4.0->streamlit->simpletransformers) (2.1.1)\n",
      "Requirement already satisfied: pyrsistent!=0.17.0,!=0.17.1,!=0.17.2,>=0.14.0 in c:\\users\\waleed ahmed shahid\\appdata\\local\\programs\\python\\python39\\lib\\site-packages (from jsonschema>=3.0->altair<6,>=4.0->streamlit->simpletransformers) (0.19.3)\n",
      "Requirement already satisfied: mdurl~=0.1 in c:\\users\\waleed ahmed shahid\\appdata\\local\\programs\\python\\python39\\lib\\site-packages (from markdown-it-py>=2.2.0->rich<14,>=10.11.0->streamlit->simpletransformers) (0.1.2)\n",
      "Requirement already satisfied: pyasn1<0.5.0,>=0.4.6 in c:\\users\\waleed ahmed shahid\\appdata\\local\\programs\\python\\python39\\lib\\site-packages (from pyasn1-modules>=0.2.1->google-auth<3,>=1.6.3->tensorboard->simpletransformers) (0.4.8)\n",
      "Requirement already satisfied: oauthlib>=3.0.0 in c:\\users\\waleed ahmed shahid\\appdata\\local\\programs\\python\\python39\\lib\\site-packages (from requests-oauthlib>=0.7.0->google-auth-oauthlib<0.5,>=0.4.1->tensorboard->simpletransformers) (3.2.0)\n"
     ]
    }
   ],
   "source": [
    "!pip install simpletransformers"
   ]
  },
  {
   "cell_type": "markdown",
   "metadata": {},
   "source": [
    " ## GENERATE WORD EMBEDDINGS"
   ]
  },
  {
   "cell_type": "code",
   "execution_count": 3,
   "metadata": {},
   "outputs": [
    {
     "name": "stderr",
     "output_type": "stream",
     "text": [
      "Some weights of the model checkpoint at bert-base-uncased were not used when initializing BertForTextRepresentation: ['cls.seq_relationship.bias', 'cls.predictions.bias', 'cls.predictions.transform.dense.bias', 'cls.predictions.transform.dense.weight', 'cls.predictions.transform.LayerNorm.bias', 'cls.seq_relationship.weight', 'cls.predictions.transform.LayerNorm.weight']\n",
      "- This IS expected if you are initializing BertForTextRepresentation from the checkpoint of a model trained on another task or with another architecture (e.g. initializing a BertForSequenceClassification model from a BertForPreTraining model).\n",
      "- This IS NOT expected if you are initializing BertForTextRepresentation from the checkpoint of a model that you expect to be exactly identical (initializing a BertForSequenceClassification model from a BertForSequenceClassification model).\n"
     ]
    }
   ],
   "source": [
    "\n",
    "from simpletransformers.language_representation import RepresentationModel\n",
    "        \n",
    "sentences = [\"Machine Learning and Deep Learning are part of AI\", \"Data Science will excel in future\"] #it should always be a list\n",
    "\n",
    "model = RepresentationModel(\n",
    "        model_type=\"bert\",\n",
    "        model_name=\"bert-base-uncased\",\n",
    "        use_cuda=False\n",
    "    )\n",
    "\n",
    "word_vectors = model.encode_sentences(sentences, combine_strategy=None)"
   ]
  },
  {
   "cell_type": "code",
   "execution_count": 4,
   "metadata": {},
   "outputs": [
    {
     "data": {
      "text/plain": [
       "(2, 11, 768)"
      ]
     },
     "execution_count": 4,
     "metadata": {},
     "output_type": "execute_result"
    }
   ],
   "source": [
    "word_vectors.shape\n"
   ]
  },
  {
   "cell_type": "code",
   "execution_count": 5,
   "metadata": {},
   "outputs": [
    {
     "data": {
      "text/plain": [
       "array([[[-0.23119849,  0.26004946, -0.27770472, ..., -0.29340333,\n",
       "          0.8043189 ,  0.4228152 ],\n",
       "        [-0.31434608,  0.56689173, -0.12599663, ..., -0.47307026,\n",
       "          0.91666245, -0.5558334 ],\n",
       "        [-0.10503996,  0.41540068,  0.43678075, ..., -0.49265686,\n",
       "          0.2915905 , -0.5465344 ],\n",
       "        ...,\n",
       "        [-0.10692373,  0.14539406, -0.36244252, ..., -0.41278124,\n",
       "          0.49094918, -0.20987965],\n",
       "        [-0.5188848 , -0.6581003 , -0.9108162 , ...,  0.3758188 ,\n",
       "          0.8849107 , -0.17310159],\n",
       "        [ 0.50818723,  0.12891915, -0.5035098 , ...,  0.15610775,\n",
       "         -0.5364382 , -0.52379876]],\n",
       "\n",
       "       [[-0.17415108,  0.16519156,  0.07086679, ..., -0.2963494 ,\n",
       "          0.33841872, -0.11301614],\n",
       "        [-0.18326949, -0.01264608,  0.48765215, ..., -0.38039574,\n",
       "          0.073544  , -0.52963483],\n",
       "        [ 0.03186209, -0.1873934 ,  1.1199807 , ..., -0.45969397,\n",
       "         -0.46317527, -0.49477077],\n",
       "        ...,\n",
       "        [-0.00217908, -0.12765276,  0.2866325 , ..., -0.13119332,\n",
       "          0.07172848, -0.23213637],\n",
       "        [ 0.08365155, -0.21041447,  0.14407891, ..., -0.03940083,\n",
       "         -0.02436975, -0.256331  ],\n",
       "        [-0.01561591, -0.17489657,  0.16535927, ..., -0.01372809,\n",
       "         -0.06601058, -0.24457277]]], dtype=float32)"
      ]
     },
     "execution_count": 5,
     "metadata": {},
     "output_type": "execute_result"
    }
   ],
   "source": [
    "word_vectors"
   ]
  },
  {
   "cell_type": "code",
   "execution_count": 6,
   "metadata": {},
   "outputs": [
    {
     "ename": "ValueError",
     "evalue": "'use_cuda' set to True when cuda is unavailable. Make sure CUDA is available or set use_cuda=False.",
     "output_type": "error",
     "traceback": [
      "\u001b[1;31m---------------------------------------------------------------------------\u001b[0m",
      "\u001b[1;31mValueError\u001b[0m                                Traceback (most recent call last)",
      "Cell \u001b[1;32mIn[6], line 3\u001b[0m\n\u001b[0;32m      1\u001b[0m \u001b[38;5;28;01mfrom\u001b[39;00m \u001b[38;5;21;01msimpletransformers\u001b[39;00m\u001b[38;5;21;01m.\u001b[39;00m\u001b[38;5;21;01mlanguage_representation\u001b[39;00m \u001b[38;5;28;01mimport\u001b[39;00m RepresentationModel\n\u001b[0;32m      2\u001b[0m sentences \u001b[38;5;241m=\u001b[39m [\u001b[38;5;124m\"\u001b[39m\u001b[38;5;124mMachine Learning and Deep Learning are part of AI\u001b[39m\u001b[38;5;124m\"\u001b[39m, \u001b[38;5;124m\"\u001b[39m\u001b[38;5;124mData Science will excel in future\u001b[39m\u001b[38;5;124m\"\u001b[39m] \u001b[38;5;66;03m#it should always be a list\u001b[39;00m\n\u001b[1;32m----> 3\u001b[0m model \u001b[38;5;241m=\u001b[39m \u001b[43mRepresentationModel\u001b[49m\u001b[43m(\u001b[49m\n\u001b[0;32m      4\u001b[0m \u001b[43m        \u001b[49m\u001b[43mmodel_type\u001b[49m\u001b[38;5;241;43m=\u001b[39;49m\u001b[38;5;124;43m\"\u001b[39;49m\u001b[38;5;124;43mbert\u001b[39;49m\u001b[38;5;124;43m\"\u001b[39;49m\u001b[43m,\u001b[49m\n\u001b[0;32m      5\u001b[0m \u001b[43m        \u001b[49m\u001b[43mmodel_name\u001b[49m\u001b[38;5;241;43m=\u001b[39;49m\u001b[38;5;124;43m\"\u001b[39;49m\u001b[38;5;124;43mbert-base-uncased\u001b[39;49m\u001b[38;5;124;43m\"\u001b[39;49m\u001b[43m,\u001b[49m\n\u001b[0;32m      6\u001b[0m \u001b[43m        \u001b[49m\u001b[43muse_cuda\u001b[49m\u001b[38;5;241;43m=\u001b[39;49m\u001b[38;5;28;43;01mTrue\u001b[39;49;00m\n\u001b[0;32m      7\u001b[0m \u001b[43m    \u001b[49m\u001b[43m)\u001b[49m\n\u001b[0;32m      8\u001b[0m sentence_vectors \u001b[38;5;241m=\u001b[39m model\u001b[38;5;241m.\u001b[39mencode_sentences(sentences, combine_strategy\u001b[38;5;241m=\u001b[39m\u001b[38;5;124m\"\u001b[39m\u001b[38;5;124mmean\u001b[39m\u001b[38;5;124m\"\u001b[39m)\n",
      "File \u001b[1;32m~\\AppData\\Local\\Programs\\Python\\Python39\\lib\\site-packages\\simpletransformers\\language_representation\\representation_model.py:126\u001b[0m, in \u001b[0;36mRepresentationModel.__init__\u001b[1;34m(self, model_type, model_name, args, use_cuda, cuda_device, **kwargs)\u001b[0m\n\u001b[0;32m    124\u001b[0m             \u001b[38;5;28mself\u001b[39m\u001b[38;5;241m.\u001b[39mdevice \u001b[38;5;241m=\u001b[39m torch\u001b[38;5;241m.\u001b[39mdevice(\u001b[38;5;124mf\u001b[39m\u001b[38;5;124m\"\u001b[39m\u001b[38;5;124mcuda:\u001b[39m\u001b[38;5;132;01m{\u001b[39;00mcuda_device\u001b[38;5;132;01m}\u001b[39;00m\u001b[38;5;124m\"\u001b[39m)\n\u001b[0;32m    125\u001b[0m     \u001b[38;5;28;01melse\u001b[39;00m:\n\u001b[1;32m--> 126\u001b[0m         \u001b[38;5;28;01mraise\u001b[39;00m \u001b[38;5;167;01mValueError\u001b[39;00m(\n\u001b[0;32m    127\u001b[0m             \u001b[38;5;124m\"\u001b[39m\u001b[38;5;124m'\u001b[39m\u001b[38;5;124muse_cuda\u001b[39m\u001b[38;5;124m'\u001b[39m\u001b[38;5;124m set to True when cuda is unavailable.\u001b[39m\u001b[38;5;124m\"\u001b[39m\n\u001b[0;32m    128\u001b[0m             \u001b[38;5;124m\"\u001b[39m\u001b[38;5;124m Make sure CUDA is available or set use_cuda=False.\u001b[39m\u001b[38;5;124m\"\u001b[39m\n\u001b[0;32m    129\u001b[0m         )\n\u001b[0;32m    130\u001b[0m \u001b[38;5;28;01melse\u001b[39;00m:\n\u001b[0;32m    131\u001b[0m     \u001b[38;5;28mself\u001b[39m\u001b[38;5;241m.\u001b[39mdevice \u001b[38;5;241m=\u001b[39m \u001b[38;5;124m\"\u001b[39m\u001b[38;5;124mcpu\u001b[39m\u001b[38;5;124m\"\u001b[39m\n",
      "\u001b[1;31mValueError\u001b[0m: 'use_cuda' set to True when cuda is unavailable. Make sure CUDA is available or set use_cuda=False."
     ]
    }
   ],
   "source": [
    "from simpletransformers.language_representation import RepresentationModel\n",
    "sentences = [\"Machine Learning and Deep Learning are part of AI\", \"Data Science will excel in future\"] #it should always be a list\n",
    "model = RepresentationModel(\n",
    "        model_type=\"bert\",\n",
    "        model_name=\"bert-base-uncased\",\n",
    "        use_cuda=True\n",
    "    )\n",
    "sentence_vectors = model.encode_sentences(sentences, combine_strategy=\"mean\")"
   ]
  },
  {
   "cell_type": "code",
   "execution_count": null,
   "metadata": {},
   "outputs": [],
   "source": [
    "\n",
    "sentence_vectors.shape"
   ]
  },
  {
   "cell_type": "code",
   "execution_count": null,
   "metadata": {},
   "outputs": [],
   "source": [
    "\n",
    "sentence_vectors.shape"
   ]
  }
 ],
 "metadata": {
  "kernelspec": {
   "display_name": "Python 3 (ipykernel)",
   "language": "python",
   "name": "python3"
  },
  "language_info": {
   "codemirror_mode": {
    "name": "ipython",
    "version": 3
   },
   "file_extension": ".py",
   "mimetype": "text/x-python",
   "name": "python",
   "nbconvert_exporter": "python",
   "pygments_lexer": "ipython3",
   "version": "3.9.0"
  }
 },
 "nbformat": 4,
 "nbformat_minor": 2
}
